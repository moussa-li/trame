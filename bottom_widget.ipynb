{
 "cells": [
  {
   "cell_type": "code",
   "execution_count": 2,
   "id": "b3113627",
   "metadata": {},
   "outputs": [],
   "source": [
    "# %load bottom_widget.py\n",
    "from assets import LoadFileToUrl\n",
    "from bottom_model import BottomModel\n",
    "from trame_vuetify.widgets import vuetify\n",
    "\n",
    "__all__ = [\n",
    "    \"BottomWidget\"\n",
    "]\n",
    "\n",
    "BOTTOM_LEFT_IMG_KEY = \"bottomleftimgkey\"\n",
    "BOTTOM_RIGHT_IMG_KEY = \"bottomrightimgkey\"\n",
    "\n",
    "class BottomWidget:\n",
    "    def __init__(self, container, bottomModel):\n",
    "        self.model = bottomModel\n",
    "        with container:\n",
    "             with vuetify.VRow(classes=\"ma-0 pa-0\", dense=True, style='height:100%'):\n",
    "                with vuetify.VCol(cols=\"6\"):\n",
    "                    self.leftImage = vuetify.VImg(contain=True, \n",
    "                    src=LoadFileToUrl(BOTTOM_LEFT_IMG_KEY, self.model.leftImage))\n",
    "                with vuetify.VCol(cols=\"6\"):\n",
    "                    self.rightImage = vuetify.VImg(contain=True,\n",
    "                    src=LoadFileToUrl(BOTTOM_LEFT_IMG_KEY, self.model.rightImage))\n",
    "        #self.Update()\n",
    "\n",
    "    def Update(self):\n",
    "        self.leftImage.setSrc(LoadFileToUrl(BOTTOM_LEFT_IMG_KEY, self.model.leftImage))\n",
    "        self.leftImage.setSrc(LoadFileToUrl(BOTTOM_RIGHT_IMG_KEY, self.model.rightImage))\n",
    "    "
   ]
  },
  {
   "cell_type": "code",
   "execution_count": null,
   "id": "415b60fc",
   "metadata": {},
   "outputs": [],
   "source": []
  }
 ],
 "metadata": {
  "kernelspec": {
   "display_name": "Python 3 (ipykernel)",
   "language": "python",
   "name": "python3"
  },
  "language_info": {
   "codemirror_mode": {
    "name": "ipython",
    "version": 3
   },
   "file_extension": ".py",
   "mimetype": "text/x-python",
   "name": "python",
   "nbconvert_exporter": "python",
   "pygments_lexer": "ipython3",
   "version": "3.9.12"
  }
 },
 "nbformat": 4,
 "nbformat_minor": 5
}
