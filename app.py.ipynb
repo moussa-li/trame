{
 "cells": [
  {
   "cell_type": "code",
   "execution_count": 2,
   "id": "5345d019",
   "metadata": {},
   "outputs": [
    {
     "ename": "AttributeError",
     "evalue": "'Thread' object has no attribute 'stop'",
     "output_type": "error",
     "traceback": [
      "\u001b[1;31m---------------------------------------------------------------------------\u001b[0m",
      "\u001b[1;31mRuntimeError\u001b[0m                              Traceback (most recent call last)",
      "File \u001b[1;32mH:\\anaconda3\\lib\\site-packages\\wslink\\server.py:284\u001b[0m, in \u001b[0;36mstart_webserver.<locals>.main_exec\u001b[1;34m()\u001b[0m\n\u001b[0;32m    283\u001b[0m \u001b[38;5;28;01mtry\u001b[39;00m:\n\u001b[1;32m--> 284\u001b[0m     \u001b[43mloop\u001b[49m\u001b[38;5;241;43m.\u001b[39;49m\u001b[43mrun_until_complete\u001b[49m\u001b[43m(\u001b[49m\u001b[43mcreate_coroutine\u001b[49m\u001b[43m(\u001b[49m\u001b[43m)\u001b[49m\u001b[43m)\u001b[49m\n\u001b[0;32m    285\u001b[0m \u001b[38;5;28;01mfinally\u001b[39;00m:\n",
      "File \u001b[1;32mH:\\anaconda3\\lib\\asyncio\\base_events.py:623\u001b[0m, in \u001b[0;36mBaseEventLoop.run_until_complete\u001b[1;34m(self, future)\u001b[0m\n\u001b[0;32m    622\u001b[0m \u001b[38;5;28mself\u001b[39m\u001b[38;5;241m.\u001b[39m_check_closed()\n\u001b[1;32m--> 623\u001b[0m \u001b[38;5;28;43mself\u001b[39;49m\u001b[38;5;241;43m.\u001b[39;49m\u001b[43m_check_running\u001b[49m\u001b[43m(\u001b[49m\u001b[43m)\u001b[49m\n\u001b[0;32m    625\u001b[0m new_task \u001b[38;5;241m=\u001b[39m \u001b[38;5;129;01mnot\u001b[39;00m futures\u001b[38;5;241m.\u001b[39misfuture(future)\n",
      "File \u001b[1;32mH:\\anaconda3\\lib\\asyncio\\base_events.py:583\u001b[0m, in \u001b[0;36mBaseEventLoop._check_running\u001b[1;34m(self)\u001b[0m\n\u001b[0;32m    582\u001b[0m \u001b[38;5;28;01mif\u001b[39;00m \u001b[38;5;28mself\u001b[39m\u001b[38;5;241m.\u001b[39mis_running():\n\u001b[1;32m--> 583\u001b[0m     \u001b[38;5;28;01mraise\u001b[39;00m \u001b[38;5;167;01mRuntimeError\u001b[39;00m(\u001b[38;5;124m'\u001b[39m\u001b[38;5;124mThis event loop is already running\u001b[39m\u001b[38;5;124m'\u001b[39m)\n\u001b[0;32m    584\u001b[0m \u001b[38;5;28;01mif\u001b[39;00m events\u001b[38;5;241m.\u001b[39m_get_running_loop() \u001b[38;5;129;01mis\u001b[39;00m \u001b[38;5;129;01mnot\u001b[39;00m \u001b[38;5;28;01mNone\u001b[39;00m:\n",
      "\u001b[1;31mRuntimeError\u001b[0m: This event loop is already running",
      "\nDuring handling of the above exception, another exception occurred:\n",
      "\u001b[1;31mRuntimeError\u001b[0m                              Traceback (most recent call last)",
      "Input \u001b[1;32mIn [2]\u001b[0m, in \u001b[0;36m<cell line: 47>\u001b[1;34m()\u001b[0m\n\u001b[0;32m     52\u001b[0m     updateTimer\u001b[38;5;241m.\u001b[39mStart()    \n\u001b[1;32m---> 53\u001b[0m     \u001b[43mserver\u001b[49m\u001b[38;5;241;43m.\u001b[39;49m\u001b[43mstart\u001b[49m\u001b[43m(\u001b[49m\u001b[43m)\u001b[49m\n\u001b[0;32m     54\u001b[0m \u001b[38;5;28;01mexcept\u001b[39;00m:\n",
      "File \u001b[1;32mH:\\anaconda3\\lib\\site-packages\\trame_server\\core.py:514\u001b[0m, in \u001b[0;36mServer.start\u001b[1;34m(self, port, thread, open_browser, show_connection_info, disable_logging, backend, exec_mode, timeout, host, **kwargs)\u001b[0m\n\u001b[0;32m    513\u001b[0m \u001b[38;5;28mself\u001b[39m\u001b[38;5;241m.\u001b[39m_running_stage \u001b[38;5;241m=\u001b[39m \u001b[38;5;241m1\u001b[39m\n\u001b[1;32m--> 514\u001b[0m task \u001b[38;5;241m=\u001b[39m CoreServer\u001b[38;5;241m.\u001b[39mserver_start(\n\u001b[0;32m    515\u001b[0m     options,\n\u001b[0;32m    516\u001b[0m     \u001b[38;5;241m*\u001b[39m\u001b[38;5;241m*\u001b[39m{  \u001b[38;5;66;03m# Do a proper merging/override\u001b[39;00m\n\u001b[0;32m    517\u001b[0m         \u001b[38;5;241m*\u001b[39m\u001b[38;5;241m*\u001b[39mkwargs,\n\u001b[0;32m    518\u001b[0m         \u001b[38;5;124m\"\u001b[39m\u001b[38;5;124mdisableLogging\u001b[39m\u001b[38;5;124m\"\u001b[39m: disable_logging,\n\u001b[0;32m    519\u001b[0m         \u001b[38;5;124m\"\u001b[39m\u001b[38;5;124mbackend\u001b[39m\u001b[38;5;124m\"\u001b[39m: backend,\n\u001b[0;32m    520\u001b[0m         \u001b[38;5;124m\"\u001b[39m\u001b[38;5;124mexec_mode\u001b[39m\u001b[38;5;124m\"\u001b[39m: exec_mode,\n\u001b[0;32m    521\u001b[0m     },\n\u001b[0;32m    522\u001b[0m )\n\u001b[0;32m    524\u001b[0m \u001b[38;5;66;03m# Manage exit life cycle unless coroutine\u001b[39;00m\n",
      "File \u001b[1;32mH:\\anaconda3\\lib\\site-packages\\trame_server\\protocol.py:50\u001b[0m, in \u001b[0;36mCoreServer.server_start\u001b[1;34m(options, disableLogging, backend, exec_mode, **kwargs)\u001b[0m\n\u001b[0;32m     41\u001b[0m \u001b[38;5;129m@staticmethod\u001b[39m\n\u001b[0;32m     42\u001b[0m \u001b[38;5;28;01mdef\u001b[39;00m \u001b[38;5;21mserver_start\u001b[39m(\n\u001b[0;32m     43\u001b[0m     options,\n\u001b[1;32m   (...)\u001b[0m\n\u001b[0;32m     48\u001b[0m ):\n\u001b[0;32m     49\u001b[0m     \u001b[38;5;66;03m# NOTE: **kwargs to wslink's start_webserver are currently unused\u001b[39;00m\n\u001b[1;32m---> 50\u001b[0m     \u001b[38;5;28;01mreturn\u001b[39;00m server\u001b[38;5;241m.\u001b[39mstart_webserver(\n\u001b[0;32m     51\u001b[0m         options\u001b[38;5;241m=\u001b[39moptions,\n\u001b[0;32m     52\u001b[0m         protocol\u001b[38;5;241m=\u001b[39mCoreServer,\n\u001b[0;32m     53\u001b[0m         disableLogging\u001b[38;5;241m=\u001b[39mdisableLogging,\n\u001b[0;32m     54\u001b[0m         backend\u001b[38;5;241m=\u001b[39mbackend,\n\u001b[0;32m     55\u001b[0m         exec_mode\u001b[38;5;241m=\u001b[39mexec_mode,\n\u001b[0;32m     56\u001b[0m         \u001b[38;5;241m*\u001b[39m\u001b[38;5;241m*\u001b[39mkwargs,\n\u001b[0;32m     57\u001b[0m     )\n",
      "File \u001b[1;32mH:\\anaconda3\\lib\\site-packages\\wslink\\server.py:300\u001b[0m, in \u001b[0;36mstart_webserver\u001b[1;34m(options, protocol, disableLogging, backend, exec_mode, **kwargs)\u001b[0m\n\u001b[0;32m    298\u001b[0m     \u001b[38;5;28;01mraise\u001b[39;00m \u001b[38;5;167;01mException\u001b[39;00m(\u001b[38;5;124mf\u001b[39m\u001b[38;5;124m\"\u001b[39m\u001b[38;5;124mUnknown exec_mode: \u001b[39m\u001b[38;5;132;01m{\u001b[39;00mexec_mode\u001b[38;5;132;01m}\u001b[39;00m\u001b[38;5;124m\"\u001b[39m)\n\u001b[1;32m--> 300\u001b[0m \u001b[38;5;28;01mreturn\u001b[39;00m \u001b[43mexec_modes\u001b[49m\u001b[43m[\u001b[49m\u001b[43mexec_mode\u001b[49m\u001b[43m]\u001b[49m\u001b[43m(\u001b[49m\u001b[43m)\u001b[49m\n",
      "File \u001b[1;32mH:\\anaconda3\\lib\\site-packages\\wslink\\server.py:286\u001b[0m, in \u001b[0;36mstart_webserver.<locals>.main_exec\u001b[1;34m()\u001b[0m\n\u001b[0;32m    285\u001b[0m \u001b[38;5;28;01mfinally\u001b[39;00m:\n\u001b[1;32m--> 286\u001b[0m     \u001b[43mloop\u001b[49m\u001b[38;5;241;43m.\u001b[39;49m\u001b[43mclose\u001b[49m\u001b[43m(\u001b[49m\u001b[43m)\u001b[49m\n",
      "File \u001b[1;32mH:\\anaconda3\\lib\\asyncio\\selector_events.py:84\u001b[0m, in \u001b[0;36mBaseSelectorEventLoop.close\u001b[1;34m(self)\u001b[0m\n\u001b[0;32m     83\u001b[0m \u001b[38;5;28;01mif\u001b[39;00m \u001b[38;5;28mself\u001b[39m\u001b[38;5;241m.\u001b[39mis_running():\n\u001b[1;32m---> 84\u001b[0m     \u001b[38;5;28;01mraise\u001b[39;00m \u001b[38;5;167;01mRuntimeError\u001b[39;00m(\u001b[38;5;124m\"\u001b[39m\u001b[38;5;124mCannot close a running event loop\u001b[39m\u001b[38;5;124m\"\u001b[39m)\n\u001b[0;32m     85\u001b[0m \u001b[38;5;28;01mif\u001b[39;00m \u001b[38;5;28mself\u001b[39m\u001b[38;5;241m.\u001b[39mis_closed():\n",
      "\u001b[1;31mRuntimeError\u001b[0m: Cannot close a running event loop",
      "\nDuring handling of the above exception, another exception occurred:\n",
      "\u001b[1;31mAttributeError\u001b[0m                            Traceback (most recent call last)",
      "Input \u001b[1;32mIn [2]\u001b[0m, in \u001b[0;36m<cell line: 47>\u001b[1;34m()\u001b[0m\n\u001b[0;32m     53\u001b[0m     server\u001b[38;5;241m.\u001b[39mstart()\n\u001b[0;32m     54\u001b[0m \u001b[38;5;28;01mexcept\u001b[39;00m:\n\u001b[1;32m---> 55\u001b[0m     \u001b[43mupdateTimer\u001b[49m\u001b[38;5;241;43m.\u001b[39;49m\u001b[43mStop\u001b[49m\u001b[43m(\u001b[49m\u001b[43m)\u001b[49m\n",
      "File \u001b[1;32mD:\\Trame\\update_timer.py:48\u001b[0m, in \u001b[0;36mUpdateTimer.Stop\u001b[1;34m(self)\u001b[0m\n\u001b[0;32m     46\u001b[0m \u001b[38;5;28;01mdef\u001b[39;00m \u001b[38;5;21mStop\u001b[39m(\u001b[38;5;28mself\u001b[39m):\n\u001b[0;32m     47\u001b[0m     \u001b[38;5;28mself\u001b[39m\u001b[38;5;241m.\u001b[39msched\u001b[38;5;241m.\u001b[39mshutdown(wait \u001b[38;5;241m=\u001b[39m \u001b[38;5;28;01mFalse\u001b[39;00m)\n\u001b[1;32m---> 48\u001b[0m     \u001b[38;5;28;43mself\u001b[39;49m\u001b[38;5;241;43m.\u001b[39;49m\u001b[43mthread\u001b[49m\u001b[38;5;241;43m.\u001b[39;49m\u001b[43mstop\u001b[49m()\n",
      "\u001b[1;31mAttributeError\u001b[0m: 'Thread' object has no attribute 'stop'"
     ]
    }
   ],
   "source": [
    "# %load app.py\n",
    "from trame.app import get_server\n",
    "from trame.widgets import vuetify\n",
    "\n",
    "from app_layout import AppLayout\n",
    "\n",
    "from bottom_model import BottomModel\n",
    "from bottom_widget import BottomWidget\n",
    "from center_model import CenterModel\n",
    "from center_widget import CenterWidget\n",
    "from update_timer import UpdateTimer\n",
    "\n",
    "# -----------------------------------------------------------------------------\n",
    "# Data setup\n",
    "# -----------------------------------------------------------------------------\n",
    "\n",
    "centerModel = CenterModel([])\n",
    "bottomModel = BottomModel('001.png', '002.png')\n",
    "\n",
    "def UpdateData():\n",
    "    # TODO\n",
    "    print('UpdateData')\n",
    "    pass\n",
    "\n",
    "# -----------------------------------------------------------------------------\n",
    "# Trame setup\n",
    "# -----------------------------------------------------------------------------\n",
    "\n",
    "server = get_server()\n",
    "state, ctrl = server.state, server.controller\n",
    "\n",
    "# -----------------------------------------------------------------------------\n",
    "# GUI\n",
    "# -----------------------------------------------------------------------------\n",
    "\n",
    "state.trame__title = \"Menu example\"\n",
    "\n",
    "with AppLayout(server) as layout:\n",
    "    layout.title.set_text(\"物理场在线监测应用系统\")\n",
    "\n",
    "    # 中心三维可视化视口\n",
    "    centerWidget = CenterWidget(layout.centerContainer, centerModel.getRenderWindow())\n",
    "\n",
    "    # 底部图片展示\n",
    "    bottomWidget = BottomWidget(layout.bottomContainer, bottomModel)\n",
    "\n",
    "if __name__ == \"__main__\":\n",
    "\n",
    "    try:\n",
    "        # 启动结果文件监定线程\n",
    "        updateTimer = UpdateTimer(UpdateData)\n",
    "        updateTimer.Start()    \n",
    "        server.start()\n",
    "    except:\n",
    "        updateTimer.Stop()"
   ]
  },
  {
   "cell_type": "code",
   "execution_count": null,
   "id": "e4b7fae8",
   "metadata": {},
   "outputs": [],
   "source": []
  }
 ],
 "metadata": {
  "kernelspec": {
   "display_name": "Python 3 (ipykernel)",
   "language": "python",
   "name": "python3"
  },
  "language_info": {
   "codemirror_mode": {
    "name": "ipython",
    "version": 3
   },
   "file_extension": ".py",
   "mimetype": "text/x-python",
   "name": "python",
   "nbconvert_exporter": "python",
   "pygments_lexer": "ipython3",
   "version": "3.9.12"
  }
 },
 "nbformat": 4,
 "nbformat_minor": 5
}
